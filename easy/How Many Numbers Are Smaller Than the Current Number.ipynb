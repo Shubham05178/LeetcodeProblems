{
 "cells": [
  {
   "cell_type": "code",
   "execution_count": 1,
   "metadata": {},
   "outputs": [],
   "source": [
    "\"\"\"\n",
    "\n",
    "==========================================\n",
    " Title: https://leetcode.com/problems/how-many-numbers-are-smaller-than-the-current-number/\n",
    " Author: Shubham Nagaria\n",
    " Date:   8 Sept 2021\n",
    "==========================================\n",
    "\n",
    "\"\"\"\n",
    "\n",
    "class Solution:\n",
    "    def smallerNumbersThanCurrent(self, nums):\n",
    "        c={}\n",
    "        d=nums.copy()\n",
    "        d.sort()\n",
    "        l=len(nums)\n",
    "        c[d[0]]=0\n",
    "        for i in range(l-1):\n",
    "            if d[i]!=d[i+1]:\n",
    "                c[d[i+1]]=i+1\n",
    "        return [c[i] for i in nums]\n",
    "              "
   ]
  },
  {
   "cell_type": "code",
   "execution_count": 2,
   "metadata": {},
   "outputs": [
    {
     "data": {
      "text/plain": [
       "[0, 1, 4, 5, 6, 2, 3]"
      ]
     },
     "execution_count": 2,
     "metadata": {},
     "output_type": "execute_result"
    }
   ],
   "source": [
    "Solution().smallerNumbersThanCurrent([1,2,32,121,2123,11,21])"
   ]
  },
  {
   "cell_type": "code",
   "execution_count": null,
   "metadata": {},
   "outputs": [],
   "source": []
  }
 ],
 "metadata": {
  "kernelspec": {
   "display_name": "Python 3",
   "language": "python",
   "name": "python3"
  },
  "language_info": {
   "codemirror_mode": {
    "name": "ipython",
    "version": 3
   },
   "file_extension": ".py",
   "mimetype": "text/x-python",
   "name": "python",
   "nbconvert_exporter": "python",
   "pygments_lexer": "ipython3",
   "version": "3.7.6rc1"
  }
 },
 "nbformat": 4,
 "nbformat_minor": 4
}
