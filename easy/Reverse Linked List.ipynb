{
 "cells": [
  {
   "cell_type": "markdown",
   "metadata": {},
   "source": [
    "Leetcode Problem - https://leetcode.com/problems/reverse-linked-list/\n",
    "\n",
    "Author -Shubham Nagaria\n",
    "\n",
    "Upload via - gitpod.io\n",
    "\n",
    "Date -16 Oct 2021"
   ]
  },
  {
   "cell_type": "code",
   "execution_count": 1,
   "metadata": {},
   "outputs": [],
   "source": [
    "# Definition for singly-linked list.\n",
    "class ListNode:\n",
    "    def __init__(self, val=0, next=None):\n",
    "        self.val = val\n",
    "        self.next = next\n",
    "class Solution:\n",
    "    def reverseList(self, head):\n",
    "        if head is None or head.next is None:\n",
    "            return head\n",
    "        nextNode=currNode=head\n",
    "        prevNode=None\n",
    "        while(nextNode):\n",
    "            nextNode=nextNode.next\n",
    "            currNode.next=prevNode\n",
    "            prevNode=currNode\n",
    "            currNode=nextNode\n",
    "        return prevNode\n",
    "        "
   ]
  }
 ],
 "metadata": {
  "kernelspec": {
   "display_name": "Python 3",
   "language": "python",
   "name": "python3"
  },
  "language_info": {
   "codemirror_mode": {
    "name": "ipython",
    "version": 3
   },
   "file_extension": ".py",
   "mimetype": "text/x-python",
   "name": "python",
   "nbconvert_exporter": "python",
   "pygments_lexer": "ipython3",
   "version": "3.9.0"
  }
 },
 "nbformat": 4,
 "nbformat_minor": 4
}
