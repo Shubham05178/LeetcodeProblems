{
 "cells": [
  {
   "cell_type": "code",
   "execution_count": 1,
   "metadata": {},
   "outputs": [],
   "source": [
    "\"\"\"\n",
    "\n",
    "==========================================\n",
    " Title: https://leetcode.com/problems/first-bad-version/\n",
    " Author: Shubham Nagaria\n",
    " Date:   26 Sept 2021\n",
    "==========================================\n",
    "\n",
    "\"\"\"\n",
    "\n",
    "class Solution:\n",
    "    def firstBadVersion(self, n):\n",
    "        \"\"\"\n",
    "        :type n: int\n",
    "        :rtype: int\n",
    "        \"\"\"\n",
    "        if isBadVersion(1):\n",
    "            return 1\n",
    "        start = 1\n",
    "        end = n \n",
    "        \n",
    "        while (True):\n",
    "            mid = start + (end - start +1)//2\n",
    "            if isBadVersion(mid):\n",
    "                end = mid\n",
    "                if mid -1 == start:\n",
    "                    return mid\n",
    "            else:\n",
    "                start = mid"
   ]
  },
  {
   "cell_type": "code",
   "execution_count": 2,
   "metadata": {},
   "outputs": [],
   "source": [
    "#Solution().firstBadVersion(9)\n",
    "#cant call the api isBadVersion() because it is inbuilt function defined by leetcode for this code."
   ]
  },
  {
   "cell_type": "code",
   "execution_count": null,
   "metadata": {},
   "outputs": [],
   "source": []
  }
 ],
 "metadata": {
  "kernelspec": {
   "display_name": "Python 3",
   "language": "python",
   "name": "python3"
  },
  "language_info": {
   "codemirror_mode": {
    "name": "ipython",
    "version": 3
   },
   "file_extension": ".py",
   "mimetype": "text/x-python",
   "name": "python",
   "nbconvert_exporter": "python",
   "pygments_lexer": "ipython3",
   "version": "3.7.6rc1"
  }
 },
 "nbformat": 4,
 "nbformat_minor": 4
}
