{
 "cells": [
  {
   "cell_type": "code",
   "execution_count": 1,
   "metadata": {},
   "outputs": [],
   "source": [
    "\"\"\"\n",
    "\n",
    "==========================================\n",
    " Title: https://leetcode.com/explore/featured/card/top-interview-questions-easy/92/array/770/\n",
    " Author: Shubham Nagaria\n",
    " Date:   10 Oct 2021\n",
    "==========================================\n",
    "\n",
    "\"\"\"\n",
    "class Solution:\n",
    "    def rotate(self, matrix) -> None:\n",
    "        \"\"\"\n",
    "        Do not return anything, modify matrix in-place instead.\n",
    "        \"\"\"    \n",
    "        N = len(matrix[0])\n",
    "        for i in range(N // 2):\n",
    "            for j in range(i, N - i - 1):\n",
    "                temp = matrix[i][j]\n",
    "                matrix[i][j] = matrix[N - 1 - j][i]\n",
    "                matrix[N - 1 - j][i] = matrix[N - 1 - i][N - 1 - j]\n",
    "                matrix[N - 1 - i][N - 1 - j] = matrix[j][N - 1 - i]\n",
    "                matrix[j][N - 1 - i] = temp\n"
   ]
  },
  {
   "cell_type": "code",
   "execution_count": 2,
   "metadata": {},
   "outputs": [
    {
     "name": "stdout",
     "output_type": "stream",
     "text": [
      "[[15, 13, 2, 5], [14, 3, 4, 1], [12, 6, 8, 9], [16, 7, 10, 11]]\n"
     ]
    }
   ],
   "source": [
    "matrix = [[5,1,9,11],[2,4,8,10],[13,3,6,7],[15,14,12,16]]\n",
    "Solution().rotate(matrix)\n",
    "print(matrix)"
   ]
  }
 ],
 "metadata": {
  "kernelspec": {
   "display_name": "Python 3",
   "language": "python",
   "name": "python3"
  },
  "language_info": {
   "codemirror_mode": {
    "name": "ipython",
    "version": 3
   },
   "file_extension": ".py",
   "mimetype": "text/x-python",
   "name": "python",
   "nbconvert_exporter": "python",
   "pygments_lexer": "ipython3",
   "version": "3.7.6rc1"
  }
 },
 "nbformat": 4,
 "nbformat_minor": 4
}
