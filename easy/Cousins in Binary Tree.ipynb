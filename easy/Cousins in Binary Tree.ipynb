{
 "cells": [
  {
   "cell_type": "markdown",
   "metadata": {},
   "source": [
    "Leetcode- https://leetcode.com/problems/cousins-in-binary-tree/\n",
    "    \n",
    "Author - Shubham Nagaria\n",
    "\n",
    "Date - 18th Oct 2021"
   ]
  },
  {
   "cell_type": "code",
   "execution_count": 1,
   "metadata": {},
   "outputs": [],
   "source": [
    "# Definition for a binary tree node.\n",
    "class TreeNode:\n",
    "    def __init__(self, val=0, left=None, right=None):\n",
    "        self.val = val\n",
    "        self.left = left\n",
    "        self.right = right\n",
    "class Solution:\n",
    "    def isCousins(self, root, x: int, y: int) -> bool:\n",
    "        self.Graph= defaultdict(tuple)\n",
    "        self.Graph[root.val]=(None,0)\n",
    "        def Traversal(Node):                 \n",
    "            parentOfParentVal,parentDepth=self.Graph[Node.val]\n",
    "            if Node.left:\n",
    "                self.Graph[Node.left.val]=(Node.val,parentDepth+1)\n",
    "                Traversal(Node.left)\n",
    "            if Node.right:\n",
    "                self.Graph[Node.right.val]=(Node.val,parentDepth+1)\n",
    "                Traversal(Node.right)\n",
    "        Traversal(root)\n",
    "        p1,d1=self.Graph[x]\n",
    "        p2,d2=self.Graph[y]\n",
    "        if d1==d2 and p1!=p2:\n",
    "            return True\n",
    "        return False\n",
    "        "
   ]
  }
 ],
 "metadata": {
  "kernelspec": {
   "display_name": "Python 3",
   "language": "python",
   "name": "python3"
  },
  "language_info": {
   "codemirror_mode": {
    "name": "ipython",
    "version": 3
   },
   "file_extension": ".py",
   "mimetype": "text/x-python",
   "name": "python",
   "nbconvert_exporter": "python",
   "pygments_lexer": "ipython3",
   "version": "3.9.0"
  }
 },
 "nbformat": 4,
 "nbformat_minor": 4
}
