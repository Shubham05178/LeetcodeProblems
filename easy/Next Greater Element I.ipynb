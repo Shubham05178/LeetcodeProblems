{
 "cells": [
  {
   "cell_type": "markdown",
   "metadata": {},
   "source": [
    "Leetcode Problem - https://leetcode.com/problems/next-greater-element-i/\n",
    "\n",
    "Author -Shubham Nagaria\n",
    "\n",
    "Date - 19th Oct 2021"
   ]
  },
  {
   "cell_type": "code",
   "execution_count": 1,
   "metadata": {},
   "outputs": [],
   "source": [
    "class Solution:\n",
    "    def nextGreaterElement(self, nums1, nums2):\n",
    "        dic={}\n",
    "        for idx,j in enumerate(nums2):\n",
    "            dic[j]=idx\n",
    "        l=len(nums2)\n",
    "        ans=[]\n",
    "        for i in nums1:\n",
    "            fl=0\n",
    "            for j in range(dic[i]+1,l):\n",
    "                if nums2[j]>i:\n",
    "                    ans.append(nums2[j])\n",
    "                    fl=1\n",
    "                    break\n",
    "            if fl==0:\n",
    "                ans.append(-1)\n",
    "        return ans"
   ]
  },
  {
   "cell_type": "code",
   "execution_count": 2,
   "metadata": {},
   "outputs": [
    {
     "data": {
      "text/plain": [
       "[-1, 3, -1]"
      ]
     },
     "execution_count": 2,
     "metadata": {},
     "output_type": "execute_result"
    }
   ],
   "source": [
    "Solution().nextGreaterElement([4,1,2],[1,3,4,2])"
   ]
  }
 ],
 "metadata": {
  "kernelspec": {
   "display_name": "Python 3",
   "language": "python",
   "name": "python3"
  },
  "language_info": {
   "codemirror_mode": {
    "name": "ipython",
    "version": 3
   },
   "file_extension": ".py",
   "mimetype": "text/x-python",
   "name": "python",
   "nbconvert_exporter": "python",
   "pygments_lexer": "ipython3",
   "version": "3.9.0"
  }
 },
 "nbformat": 4,
 "nbformat_minor": 4
}
