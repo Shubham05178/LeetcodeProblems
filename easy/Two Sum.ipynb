{
 "cells": [
  {
   "cell_type": "code",
   "execution_count": 1,
   "metadata": {},
   "outputs": [],
   "source": [
    "\"\"\"\n",
    "\n",
    "==========================================\n",
    " Title: https://leetcode.com/problems/two-sum/\n",
    " Author: Shubham Nagaria\n",
    " Date:   7 Sept 2021\n",
    "==========================================\n",
    "\n",
    "\"\"\"\n",
    "\n",
    "class Solution:\n",
    "    def twoSum(self, nums, target: int) :\n",
    "        A={}\n",
    "        for i,j in enumerate(nums):\n",
    "            k=target-j\n",
    "            if k in A.keys():\n",
    "                return [A[k],i]\n",
    "            A[j]=i\n",
    "        return [-1,-1]"
   ]
  },
  {
   "cell_type": "code",
   "execution_count": 2,
   "metadata": {},
   "outputs": [
    {
     "data": {
      "text/plain": [
       "[0, 1]"
      ]
     },
     "execution_count": 2,
     "metadata": {},
     "output_type": "execute_result"
    }
   ],
   "source": [
    "Solution().twoSum([2,7,11,15],9)"
   ]
  },
  {
   "cell_type": "code",
   "execution_count": null,
   "metadata": {},
   "outputs": [],
   "source": []
  }
 ],
 "metadata": {
  "kernelspec": {
   "display_name": "Python 3",
   "language": "python",
   "name": "python3"
  },
  "language_info": {
   "codemirror_mode": {
    "name": "ipython",
    "version": 3
   },
   "file_extension": ".py",
   "mimetype": "text/x-python",
   "name": "python",
   "nbconvert_exporter": "python",
   "pygments_lexer": "ipython3",
   "version": "3.7.6rc1"
  }
 },
 "nbformat": 4,
 "nbformat_minor": 4
}
