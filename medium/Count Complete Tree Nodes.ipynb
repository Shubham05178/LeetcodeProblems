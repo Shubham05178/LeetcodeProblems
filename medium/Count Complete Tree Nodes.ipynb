{
 "cells": [
  {
   "cell_type": "markdown",
   "id": "94342d7e",
   "metadata": {},
   "source": [
    "Leetcode Problem -https://leetcode.com/problems/count-complete-tree-nodes\n",
    "    \n",
    "Author - Shubham Nagaria\n",
    "\n",
    "Date-24 Oct 2021"
   ]
  },
  {
   "cell_type": "code",
   "execution_count": 1,
   "id": "a9c593a6",
   "metadata": {},
   "outputs": [],
   "source": [
    "class Solution:\n",
    "    def countNodes(self, root) -> int:\n",
    "        if root ==  None:\n",
    "            return 0\n",
    "        lft=rgt=root\n",
    "        lh=0\n",
    "        rh=0\n",
    "        while lft:\n",
    "            lh+=1\n",
    "            lft=lft.left\n",
    "        while rgt:\n",
    "            rh+=1\n",
    "            rgt=rgt.right\n",
    "        return (2**rh) -1 if lh==rh else 1+self.countNodes(root.left)+self.countNodes(root.right)"
   ]
  }
 ],
 "metadata": {
  "kernelspec": {
   "display_name": "Python 3 (ipykernel)",
   "language": "python",
   "name": "python3"
  },
  "language_info": {
   "codemirror_mode": {
    "name": "ipython",
    "version": 3
   },
   "file_extension": ".py",
   "mimetype": "text/x-python",
   "name": "python",
   "nbconvert_exporter": "python",
   "pygments_lexer": "ipython3",
   "version": "3.9.7"
  }
 },
 "nbformat": 4,
 "nbformat_minor": 5
}
