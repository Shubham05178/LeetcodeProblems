{
 "cells": [
  {
   "cell_type": "markdown",
   "id": "2bcb6aa1",
   "metadata": {},
   "source": [
    "Leetcode Problem - https://leetcode.com/problems/reverse-words-in-a-string\n",
    "    \n",
    "Author - Shubham Nagaria\n",
    "\n",
    "Date -20th Oct 2021"
   ]
  },
  {
   "cell_type": "code",
   "execution_count": 1,
   "id": "bd6467a7",
   "metadata": {},
   "outputs": [],
   "source": [
    "class Solution:\n",
    "    def reverseWords(self, s: str) -> str:\n",
    "        w=s.split()\n",
    "        l=len(w)\n",
    "        for i in range(l//2):\n",
    "            t=w[i]\n",
    "            w[i]=w[l-1-i]\n",
    "            w[l-1-i]=t\n",
    "        return \" \".join(w)"
   ]
  },
  {
   "cell_type": "code",
   "execution_count": 2,
   "id": "b0a89066",
   "metadata": {},
   "outputs": [
    {
     "data": {
      "text/plain": [
       "'Shubham is Name My There Hey'"
      ]
     },
     "execution_count": 2,
     "metadata": {},
     "output_type": "execute_result"
    }
   ],
   "source": [
    "Solution().reverseWords(\"Hey There My Name is Shubham\")"
   ]
  }
 ],
 "metadata": {
  "kernelspec": {
   "display_name": "Python 3 (ipykernel)",
   "language": "python",
   "name": "python3"
  },
  "language_info": {
   "codemirror_mode": {
    "name": "ipython",
    "version": 3
   },
   "file_extension": ".py",
   "mimetype": "text/x-python",
   "name": "python",
   "nbconvert_exporter": "python",
   "pygments_lexer": "ipython3",
   "version": "3.9.7"
  }
 },
 "nbformat": 4,
 "nbformat_minor": 5
}
