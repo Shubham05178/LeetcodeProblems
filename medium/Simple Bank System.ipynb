{
 "cells": [
  {
   "cell_type": "markdown",
   "metadata": {},
   "source": [
    "Leetcode - https://leetcode.com/problems/simple-bank-system/\n",
    "    \n",
    "Date- 17th Oct 2021\n",
    "\n",
    "Author - Shubham Nagaria\n"
   ]
  },
  {
   "cell_type": "code",
   "execution_count": 1,
   "metadata": {},
   "outputs": [],
   "source": [
    "class Bank:\n",
    "\n",
    "    def __init__(self, balance):\n",
    "        self.bal=balance\n",
    "        \n",
    "\n",
    "    def transfer(self, account1: int, account2: int, money: int) -> bool:\n",
    "        l= len(self.bal)\n",
    "        if l<account1 or l<account2 or account1<1 or account2<0:\n",
    "\n",
    "            return False\n",
    "        if self.bal[account1-1]>=money:\n",
    "            self.bal[account1-1]-=money\n",
    "            self.bal[account2-1]+=money\n",
    "            return True\n",
    "        return False\n",
    "        \n",
    "        \n",
    "\n",
    "    def deposit(self, account: int, money: int) -> bool:\n",
    "        l= len(self.bal)\n",
    "      \n",
    "        if l<account or account<1 :\n",
    "            return False\n",
    "        self.bal[account-1]+=money\n",
    "        return True\n",
    "        \n",
    "\n",
    "    def withdraw(self, account: int, money: int) -> bool:\n",
    "        l= len(self.bal)\n",
    "        if l<account or account<1 :\n",
    "            return False\n",
    "        if self.bal[account-1]>=money:\n",
    "            self.bal[account-1]-=money\n",
    "            return True\n",
    "        return False\n",
    "        \n",
    "\n",
    "\n",
    "# Your Bank object will be instantiated and called as such:\n",
    "# obj = Bank(balance)\n",
    "# param_1 = obj.transfer(account1,account2,money)\n",
    "# param_2 = obj.deposit(account,money)\n",
    "# param_3 = obj.withdraw(account,money)"
   ]
  }
 ],
 "metadata": {
  "kernelspec": {
   "display_name": "Python 3",
   "language": "python",
   "name": "python3"
  },
  "language_info": {
   "codemirror_mode": {
    "name": "ipython",
    "version": 3
   },
   "file_extension": ".py",
   "mimetype": "text/x-python",
   "name": "python",
   "nbconvert_exporter": "python",
   "pygments_lexer": "ipython3",
   "version": "3.9.0"
  }
 },
 "nbformat": 4,
 "nbformat_minor": 4
}
