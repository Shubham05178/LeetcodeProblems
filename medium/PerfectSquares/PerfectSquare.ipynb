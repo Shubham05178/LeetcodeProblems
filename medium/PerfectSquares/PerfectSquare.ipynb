{
 "cells": [
  {
   "cell_type": "markdown",
   "metadata": {},
   "source": [
    "Leetcode Problem - https://leetcode.com/problems/perfect-squares/\n",
    "\n",
    "Upload Via -gitpod.io\n",
    "\n",
    "Author -Shubham Nagaria\n",
    "\n",
    "Date -14th October 2021"
   ]
  },
  {
   "cell_type": "code",
   "execution_count": 3,
   "metadata": {},
   "outputs": [],
   "source": [
    "import math\n",
    "class Solution(object):\n",
    "    def numSquares(self, n):\n",
    "        perfect_squares = [i * i for i in range(1, int(math.sqrt(n)) + 1)]\n",
    "        dp = [float(\"inf\") for i in range(n + 1)]\n",
    "        dp[0] = 0\n",
    "        dp[1] = 1\n",
    "        for i in range(2, n + 1):\n",
    "            for square in perfect_squares:\n",
    "                dp[i] = min(dp[i], dp[i - square] + 1)\n",
    "        return dp[-1]"
   ]
  },
  {
   "cell_type": "code",
   "execution_count": 4,
   "metadata": {},
   "outputs": [
    {
     "data": {
      "text/plain": [
       "3"
      ]
     },
     "execution_count": 4,
     "metadata": {},
     "output_type": "execute_result"
    }
   ],
   "source": [
    "Solution().numSquares(12)"
   ]
  }
 ],
 "metadata": {
  "interpreter": {
   "hash": "8b8334dab9339717f727a1deaf837b322d7a41c20d15cc86be99a8e69ceec8ce"
  },
  "kernelspec": {
   "display_name": "Python 3.8.12 64-bit ('3.8.12': pyenv)",
   "name": "python3"
  },
  "language_info": {
   "codemirror_mode": {
    "name": "ipython",
    "version": 3
   },
   "file_extension": ".py",
   "mimetype": "text/x-python",
   "name": "python",
   "nbconvert_exporter": "python",
   "pygments_lexer": "ipython3",
   "version": "3.8.12"
  },
  "orig_nbformat": 4
 },
 "nbformat": 4,
 "nbformat_minor": 2
}
