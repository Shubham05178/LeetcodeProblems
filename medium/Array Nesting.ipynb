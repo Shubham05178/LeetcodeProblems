{
 "cells": [
  {
   "cell_type": "code",
   "execution_count": 1,
   "metadata": {},
   "outputs": [],
   "source": [
    "\"\"\"\n",
    "\n",
    "==========================================\n",
    " Title: https://leetcode.com/problems/array-nesting/\n",
    " Author: Shubham Nagaria\n",
    " Date:   8 Sept 2021\n",
    "==========================================\n",
    "`\n",
    "\"\"\"\n",
    "\n",
    "\n",
    "\n",
    "class Solution:\n",
    "    def arrayNesting(self, nums) -> int:\n",
    "        res=0\n",
    "\n",
    "        for i in nums:\n",
    "            int_Co=0\n",
    "            index=i\n",
    "            if i !=-1:\n",
    "                while(True):\n",
    "                    preindex=index\n",
    "                    index=nums[index]\n",
    "                    nums[preindex]=-1\n",
    "                    int_Co+=1\n",
    "                    if index ==i:\n",
    "                        break\n",
    "            res=max(int_Co,res)\n",
    "        return res\n",
    "                    \n",
    "                \n",
    "        "
   ]
  },
  {
   "cell_type": "code",
   "execution_count": 2,
   "metadata": {},
   "outputs": [
    {
     "data": {
      "text/plain": [
       "4"
      ]
     },
     "execution_count": 2,
     "metadata": {},
     "output_type": "execute_result"
    }
   ],
   "source": [
    "Solution().arrayNesting([5,4,0,3,1,6,2])"
   ]
  },
  {
   "cell_type": "code",
   "execution_count": null,
   "metadata": {},
   "outputs": [],
   "source": []
  }
 ],
 "metadata": {
  "kernelspec": {
   "display_name": "Python 3",
   "language": "python",
   "name": "python3"
  },
  "language_info": {
   "codemirror_mode": {
    "name": "ipython",
    "version": 3
   },
   "file_extension": ".py",
   "mimetype": "text/x-python",
   "name": "python",
   "nbconvert_exporter": "python",
   "pygments_lexer": "ipython3",
   "version": "3.7.6rc1"
  }
 },
 "nbformat": 4,
 "nbformat_minor": 4
}
