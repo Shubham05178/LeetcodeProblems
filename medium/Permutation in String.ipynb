{
 "cells": [
  {
   "cell_type": "code",
   "execution_count": 1,
   "metadata": {},
   "outputs": [],
   "source": [
    "\"\"\"\n",
    "\n",
    "==========================================\n",
    " Title: https://leetcode.com/problems/permutation-in-string\n",
    " Author: Shubham Nagaria\n",
    " Date:   24 Sept 2021\n",
    "==========================================\n",
    "\n",
    "\"\"\"\n",
    "\n",
    "\n",
    "\n",
    "\n",
    "class Solution:\n",
    "    def checkInclusion(self, s1: str, s2: str) -> bool:\n",
    "        smallMap={}\n",
    "        bigMap={}\n",
    "        ctr=0\n",
    "        l=len(s1)\n",
    "        h=len(s2)\n",
    "        if h<l:\n",
    "            return False\n",
    "        for i in s1:\n",
    "            smallMap[i]=smallMap.get(i,0)+1\n",
    "        for i in range(l):\n",
    "            bigMap[s2[i]]=bigMap.get(s2[i],0)+1\n",
    "            if bigMap[s2[i]] == smallMap.get(s2[i],0):\n",
    "                ctr+=1\n",
    "        if ctr==len(smallMap):\n",
    "            return True\n",
    "        for i in range(h-l):\n",
    "            bigMap[s2[i+l]]=bigMap.get(s2[i+l],0)+1\n",
    "            if bigMap[s2[i+l]] == smallMap.get(s2[i+l],0):\n",
    "                ctr+=1\n",
    "            if bigMap[s2[i]]==smallMap.get(s2[i],0):\n",
    "                ctr-=1\n",
    "            bigMap[s2[i]]-=1\n",
    "            if ctr==len(smallMap):\n",
    "                return True\n",
    "        return False           "
   ]
  },
  {
   "cell_type": "code",
   "execution_count": 2,
   "metadata": {},
   "outputs": [
    {
     "data": {
      "text/plain": [
       "False"
      ]
     },
     "execution_count": 2,
     "metadata": {},
     "output_type": "execute_result"
    }
   ],
   "source": [
    "Solution().checkInclusion(\"abc\",\"ccccbbbbaaaa\")"
   ]
  },
  {
   "cell_type": "code",
   "execution_count": null,
   "metadata": {},
   "outputs": [],
   "source": []
  }
 ],
 "metadata": {
  "kernelspec": {
   "display_name": "Python 3",
   "language": "python",
   "name": "python3"
  },
  "language_info": {
   "codemirror_mode": {
    "name": "ipython",
    "version": 3
   },
   "file_extension": ".py",
   "mimetype": "text/x-python",
   "name": "python",
   "nbconvert_exporter": "python",
   "pygments_lexer": "ipython3",
   "version": "3.7.6rc1"
  }
 },
 "nbformat": 4,
 "nbformat_minor": 4
}
