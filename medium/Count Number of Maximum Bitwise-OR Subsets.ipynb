{
 "cells": [
  {
   "cell_type": "markdown",
   "metadata": {},
   "source": [
    "Leetcode - https://leetcode.com/problems/count-number-of-maximum-bitwise-or-subsets/\n",
    "    \n",
    "Date- 17th Oct 2021\n",
    "\n",
    "Author - Shubham Nagaria\n"
   ]
  },
  {
   "cell_type": "code",
   "execution_count": 1,
   "metadata": {},
   "outputs": [],
   "source": [
    "class Solution:\n",
    "    def countMaxOrSubsets(self, nums) -> int:\n",
    "        target=0\n",
    "        for n in nums:\n",
    "            target|=n\n",
    "        self.ans=set()\n",
    "        def helper(i,curr,arr):\n",
    "            if curr==target:\n",
    "                self.ans.add(tuple(arr.copy()))\n",
    "            if i==len(nums):\n",
    "                return\n",
    "            helper(i+1,curr,arr)\n",
    "            helper(i+1,curr|nums[i],arr+[i])\n",
    "            \n",
    "        helper(0,0,[])\n",
    "        return len(self.ans)"
   ]
  },
  {
   "cell_type": "code",
   "execution_count": 2,
   "metadata": {},
   "outputs": [
    {
     "data": {
      "text/plain": [
       "7"
      ]
     },
     "execution_count": 2,
     "metadata": {},
     "output_type": "execute_result"
    }
   ],
   "source": [
    "Solution().countMaxOrSubsets([2,2,2])"
   ]
  }
 ],
 "metadata": {
  "kernelspec": {
   "display_name": "Python 3",
   "language": "python",
   "name": "python3"
  },
  "language_info": {
   "codemirror_mode": {
    "name": "ipython",
    "version": 3
   },
   "file_extension": ".py",
   "mimetype": "text/x-python",
   "name": "python",
   "nbconvert_exporter": "python",
   "pygments_lexer": "ipython3",
   "version": "3.9.0"
  }
 },
 "nbformat": 4,
 "nbformat_minor": 4
}
