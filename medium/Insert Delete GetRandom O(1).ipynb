{
 "cells": [
  {
   "cell_type": "markdown",
   "id": "c14a072e",
   "metadata": {},
   "source": [
    "Leetcode- https://leetcode.com/problems/insert-delete-getrandom-o1/\n",
    "    \n",
    "Author - Shubham Nagaria\n",
    "\n",
    "Date -21 Oct 2021"
   ]
  },
  {
   "cell_type": "code",
   "execution_count": 1,
   "id": "1094f897",
   "metadata": {},
   "outputs": [],
   "source": [
    "class RandomizedSet:\n",
    "\n",
    "    def __init__(self):\n",
    "        self.s=set()\n",
    "\n",
    "    def insert(self, val: int) -> bool:\n",
    "        if val in self.s:\n",
    "            return False\n",
    "        self.s.add(val)\n",
    "        return True\n",
    "\n",
    "    def remove(self, val: int) -> bool:\n",
    "        if val in self.s:\n",
    "            self.s.remove(val)\n",
    "            return True\n",
    "        return False\n",
    "        \n",
    "\n",
    "    def getRandom(self) -> int:\n",
    "        return random.choice(list(self.s))\n",
    "\n",
    "\n",
    "# Your RandomizedSet object will be instantiated and called as such:\n",
    "# obj = RandomizedSet()\n",
    "# param_1 = obj.insert(val)\n",
    "# param_2 = obj.remove(val)\n",
    "# param_3 = obj.getRandom()"
   ]
  }
 ],
 "metadata": {
  "kernelspec": {
   "display_name": "Python 3 (ipykernel)",
   "language": "python",
   "name": "python3"
  },
  "language_info": {
   "codemirror_mode": {
    "name": "ipython",
    "version": 3
   },
   "file_extension": ".py",
   "mimetype": "text/x-python",
   "name": "python",
   "nbconvert_exporter": "python",
   "pygments_lexer": "ipython3",
   "version": "3.9.7"
  }
 },
 "nbformat": 4,
 "nbformat_minor": 5
}
