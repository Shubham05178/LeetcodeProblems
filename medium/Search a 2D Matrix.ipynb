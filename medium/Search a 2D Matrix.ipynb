{
 "cells": [
  {
   "cell_type": "code",
   "execution_count": 1,
   "metadata": {},
   "outputs": [],
   "source": [
    "\"\"\"\n",
    "\n",
    "==========================================\n",
    " Title:  https://leetcode.com/problems/search-a-2d-matrix/\n",
    " Author: Shubham Nagaria\n",
    " Date:   7 Sept 2021\n",
    "==========================================\n",
    "\n",
    "\"\"\"\n",
    "class Solution:\n",
    "    def searchMatrix(self, matrix, target: int) -> bool:\n",
    "        n,m=len(matrix),len(matrix[0])\n",
    "        if target < matrix[0][0] or target >matrix[n-1][m-1]:\n",
    "            return False\n",
    "        i=0\n",
    "        j=m-1\n",
    "        while(i<n and j>=0):\n",
    "            if matrix[i][j]==target:\n",
    "                return True\n",
    "            elif matrix[i][j]<target:\n",
    "                i+=1\n",
    "            elif matrix[i][j]>target:\n",
    "                j-=1\n",
    "        return False      "
   ]
  },
  {
   "cell_type": "code",
   "execution_count": 2,
   "metadata": {},
   "outputs": [
    {
     "data": {
      "text/plain": [
       "True"
      ]
     },
     "execution_count": 2,
     "metadata": {},
     "output_type": "execute_result"
    }
   ],
   "source": [
    " Solution().searchMatrix( [[1,3,5,7],[10,11,16,20],[23,30,34,60]],3)"
   ]
  },
  {
   "cell_type": "code",
   "execution_count": null,
   "metadata": {},
   "outputs": [],
   "source": []
  }
 ],
 "metadata": {
  "kernelspec": {
   "display_name": "Python 3",
   "language": "python",
   "name": "python3"
  },
  "language_info": {
   "codemirror_mode": {
    "name": "ipython",
    "version": 3
   },
   "file_extension": ".py",
   "mimetype": "text/x-python",
   "name": "python",
   "nbconvert_exporter": "python",
   "pygments_lexer": "ipython3",
   "version": "3.7.6rc1"
  }
 },
 "nbformat": 4,
 "nbformat_minor": 4
}
