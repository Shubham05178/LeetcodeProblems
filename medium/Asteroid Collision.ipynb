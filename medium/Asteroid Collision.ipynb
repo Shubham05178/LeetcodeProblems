{
 "cells": [
  {
   "cell_type": "markdown",
   "metadata": {},
   "source": [
    "Leetcode Problem -https://leetcode.com/problems/asteroid-collision\n",
    "\n",
    "Author -Shubham Nagaria\n",
    "\n",
    "Upload via - gitpod.io\n",
    "\n",
    "Date -16 Oct 2021"
   ]
  },
  {
   "cell_type": "code",
   "execution_count": 1,
   "metadata": {},
   "outputs": [],
   "source": [
    "class Solution:\n",
    "    def asteroidCollision(self, asteroids):\n",
    "        stack = []\n",
    "        for i in asteroids:\n",
    "            if i > 0:\n",
    "                stack.append(i)\n",
    "            else:\n",
    "                while stack and stack[-1]>0 and abs(i)>stack[-1]:\n",
    "                    stack.pop()\n",
    "                if stack and stack[-1]+i==0:\n",
    "                    stack.pop()\n",
    "                elif not stack or stack[-1]<0:\n",
    "                    stack.append(i)\n",
    "        return stack"
   ]
  },
  {
   "cell_type": "code",
   "execution_count": 2,
   "metadata": {},
   "outputs": [
    {
     "data": {
      "text/plain": [
       "[5, 10]"
      ]
     },
     "execution_count": 2,
     "metadata": {},
     "output_type": "execute_result"
    }
   ],
   "source": [
    "Solution().asteroidCollision([5,10,-5])"
   ]
  }
 ],
 "metadata": {
  "kernelspec": {
   "display_name": "Python 3",
   "language": "python",
   "name": "python3"
  },
  "language_info": {
   "codemirror_mode": {
    "name": "ipython",
    "version": 3
   },
   "file_extension": ".py",
   "mimetype": "text/x-python",
   "name": "python",
   "nbconvert_exporter": "python",
   "pygments_lexer": "ipython3",
   "version": "3.9.0"
  }
 },
 "nbformat": 4,
 "nbformat_minor": 4
}
