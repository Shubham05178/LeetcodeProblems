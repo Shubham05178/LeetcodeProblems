{
 "cells": [
  {
   "cell_type": "code",
   "execution_count": 5,
   "metadata": {},
   "outputs": [],
   "source": [
    "\"\"\"\n",
    "\n",
    "==========================================\n",
    " Title:  https://leetcode.com/problems/trapping-rain-water/\n",
    " Author: Shubham Nagaria\n",
    " Date:   7 Sept 2021\n",
    "==========================================\n",
    "\n",
    "\"\"\"\n",
    "\n",
    "\n",
    "class Solution:\n",
    "    def trap(self, height) -> int:\n",
    "        n=len(height)\n",
    "        leftmax=[0]*n\n",
    "        rightmax=[0]*n\n",
    "\n",
    "        for i in range(1,n):\n",
    "            leftmax[i]=max(leftmax[i-1],height[i-1])\n",
    "        for i in range(n-2,-1,-1):\n",
    "            rightmax[i]=max(rightmax[i+1],height[i+1])\n",
    "        c=0\n",
    "        for i in range(1,n-1):\n",
    "            x=min(leftmax[i],rightmax[i])-height[i]\n",
    "            if x>0:\n",
    "                c+=x\n",
    "        return c\n",
    "    \n",
    "    \n",
    "    \n",
    "    \n",
    "    \n",
    "    \n",
    "o=Solution()\n",
    "o.trap([0,1,19,0,19,21,])\n",
    "    \n"
   ]
  },
  {
   "cell_type": "code",
   "execution_count": null,
   "metadata": {},
   "outputs": [],
   "source": [
    "\"\"\"logic\n",
    "def trap( height) -> int:\n",
    "    n=len(height)\n",
    "    leftmax=[0]*n\n",
    "    rightmax=[0]*n\n",
    "\n",
    "    for i in range(1,n):\n",
    "        leftmax[i]=max(leftmax[i-1],height[i-1])\n",
    "    for i in range(n-2,-1,-1):\n",
    "        rightmax[i]=max(rightmax[i+1],height[i+1])\n",
    "    c=0\n",
    "    for i in range(1,n-1):\n",
    "        x=min(leftmax[i],rightmax[i])-height[i]\n",
    "        if x>0:\n",
    "            c+=x\n",
    "    return c\n",
    "\n",
    "\n",
    "trap([1,2,2,0,3,2,12,31,0,42])\n",
    "\n",
    "\n",
    "\"\"\""
   ]
  }
 ],
 "metadata": {
  "kernelspec": {
   "display_name": "Python 3",
   "language": "python",
   "name": "python3"
  },
  "language_info": {
   "codemirror_mode": {
    "name": "ipython",
    "version": 3
   },
   "file_extension": ".py",
   "mimetype": "text/x-python",
   "name": "python",
   "nbconvert_exporter": "python",
   "pygments_lexer": "ipython3",
   "version": "3.7.6rc1"
  }
 },
 "nbformat": 4,
 "nbformat_minor": 4
}
