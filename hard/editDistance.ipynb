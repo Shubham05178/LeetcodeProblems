{
 "cells": [
  {
   "cell_type": "markdown",
   "metadata": {},
   "source": [
    "Leetcode Problem - https://leetcode.com/problems/edit-distance\n",
    "\n",
    "Author - Shubham Nagaria\n",
    "\n",
    "Date - 15th October 2021\n",
    "\n",
    "Problem Type - Hard \n",
    "\n",
    "Approach - Dynamic (Tabulation)\n",
    "\n",
    "Time Complexity - O(m*n)\n",
    "\n",
    "Space Complexity -O (m*n)\n",
    "\n",
    "where m is length of Word1 and n is length of word2\n",
    "\n",
    "Upload via - gitpod.io"
   ]
  },
  {
   "cell_type": "code",
   "execution_count": 1,
   "metadata": {},
   "outputs": [],
   "source": [
    "import math\n",
    "class Solution:\n",
    "    def minDistance(self, word1: str, word2: str) -> int:\n",
    "        L1,L2=len(word1),len(word2)\n",
    "        dp=[[math.inf]*(L2+1) for _ in range(L1+1)]\n",
    "        for j in range (L2+1):\n",
    "            dp[L1][j]=L2-j\n",
    "        for i in range(L1+1):\n",
    "            dp[i][L2]=L1-i\n",
    "        for i in range(L1-1,-1,-1):\n",
    "            for j in range(L2-1,-1,-1):\n",
    "                if word1[i]==word2[j]:\n",
    "                    dp[i][j]=dp[i+1][j+1]\n",
    "                else:\n",
    "                    dp[i][j]=min(dp[i+1][j],dp[i][j+1],dp[i+1][j+1])+1\n",
    "        return dp[0][0]"
   ]
  },
  {
   "cell_type": "code",
   "execution_count": 2,
   "metadata": {},
   "outputs": [
    {
     "data": {
      "text/plain": [
       "5"
      ]
     },
     "execution_count": 2,
     "metadata": {},
     "output_type": "execute_result"
    }
   ],
   "source": [
    "Solution().minDistance(\"intention\",\"execution\")"
   ]
  }
 ],
 "metadata": {
  "kernelspec": {
   "display_name": "Python 3",
   "language": "python",
   "name": "python3"
  },
  "language_info": {
   "codemirror_mode": {
    "name": "ipython",
    "version": 3
   },
   "file_extension": ".py",
   "mimetype": "text/x-python",
   "name": "python",
   "nbconvert_exporter": "python",
   "pygments_lexer": "ipython3",
   "version": "3.9.0"
  }
 },
 "nbformat": 4,
 "nbformat_minor": 4
}
