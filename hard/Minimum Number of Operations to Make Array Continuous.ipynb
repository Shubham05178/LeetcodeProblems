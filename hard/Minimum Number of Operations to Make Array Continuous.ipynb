{
 "cells": [
  {
   "cell_type": "code",
   "execution_count": 5,
   "metadata": {},
   "outputs": [],
   "source": [
    "\"\"\"\n",
    "\n",
    "==========================================\n",
    " Title:  https://leetcode.com/problems/minimum-number-of-operations-to-make-array-continuous/\n",
    " Author: Shubham Nagaria\n",
    " Date:   9 Oct 2021\n",
    "==========================================\n",
    "\n",
    "\"\"\"\n",
    "\n",
    "\n",
    "class Solution(object):\n",
    "    def minOperations(self, nums):\n",
    "        n = len(nums)\n",
    "        nums.sort()\n",
    "        min_ops = len(nums)\n",
    "        start = 0\n",
    "        duplicates = 0\n",
    "        for end, num in enumerate(nums):\n",
    "            while start < end and nums[start] <= num-n:\n",
    "                start = start + 1\n",
    "                duplicates -= 1 if start > 0 and nums[start-1] == nums[start] else 0\n",
    "\n",
    "            duplicates += 1 if end > 0 and nums[end-1] == num else 0\n",
    "            min_ops = min(min_ops, n-(end-start+1-duplicates))\n",
    "        return min_ops\n"
   ]
  },
  {
   "cell_type": "code",
   "execution_count": 10,
   "metadata": {},
   "outputs": [
    {
     "data": {
      "text/plain": [
       "2"
      ]
     },
     "execution_count": 10,
     "metadata": {},
     "output_type": "execute_result"
    }
   ],
   "source": [
    "Solution().minOperations([12,4,4,1])"
   ]
  }
 ],
 "metadata": {
  "kernelspec": {
   "display_name": "Python 3",
   "language": "python",
   "name": "python3"
  },
  "language_info": {
   "codemirror_mode": {
    "name": "ipython",
    "version": 3
   },
   "file_extension": ".py",
   "mimetype": "text/x-python",
   "name": "python",
   "nbconvert_exporter": "python",
   "pygments_lexer": "ipython3",
   "version": "3.7.6rc1"
  }
 },
 "nbformat": 4,
 "nbformat_minor": 4
}
