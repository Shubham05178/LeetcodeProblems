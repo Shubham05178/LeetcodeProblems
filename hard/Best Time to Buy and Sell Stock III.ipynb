{
 "cells": [
  {
   "cell_type": "markdown",
   "metadata": {},
   "source": [
    "Leetcode Problem - https://leetcode.com/problems/best-time-to-buy-and-sell-stock-iii\n",
    "\n",
    "Upload Via- Gitpod.io\n",
    "\n",
    "Author - Shubham Nagaria\n",
    "\n",
    "Date- 16th Oct 2021\n"
   ]
  },
  {
   "cell_type": "code",
   "execution_count": 1,
   "metadata": {},
   "outputs": [],
   "source": [
    "class Solution:\n",
    "    def maxProfit(self, prices) -> int:\n",
    "        s0 = 0\n",
    "        h1 = s1 = h2 = s2 = float('-inf')\n",
    "        for p in prices:\n",
    "            \n",
    "            h1, s1, h2, s2 = max(h1, s0 - p), max(s1, h1 + p), max(h2, s1 - p), max(s2, h2 + p)\n",
    "        return max(s0, s1, s2)"
   ]
  },
  {
   "cell_type": "code",
   "execution_count": 2,
   "metadata": {},
   "outputs": [
    {
     "data": {
      "text/plain": [
       "6"
      ]
     },
     "execution_count": 2,
     "metadata": {},
     "output_type": "execute_result"
    }
   ],
   "source": [
    "Solution().maxProfit([3,3,5,0,0,3,1,4])"
   ]
  }
 ],
 "metadata": {
  "kernelspec": {
   "display_name": "Python 3",
   "language": "python",
   "name": "python3"
  },
  "language_info": {
   "codemirror_mode": {
    "name": "ipython",
    "version": 3
   },
   "file_extension": ".py",
   "mimetype": "text/x-python",
   "name": "python",
   "nbconvert_exporter": "python",
   "pygments_lexer": "ipython3",
   "version": "3.9.0"
  }
 },
 "nbformat": 4,
 "nbformat_minor": 4
}
