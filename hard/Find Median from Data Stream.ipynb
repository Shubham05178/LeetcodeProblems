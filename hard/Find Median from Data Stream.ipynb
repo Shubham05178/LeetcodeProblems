{
 "cells": [
  {
   "cell_type": "markdown",
   "metadata": {},
   "source": [
    "Leetcode Problem - https://leetcode.com/problems/find-median-from-data-stream/\n",
    "\n",
    "Author -Shubham Nagaria\n",
    "\n",
    "Upload via - gitpod.io\n",
    "\n",
    "Date -16 Oct 2021"
   ]
  },
  {
   "cell_type": "code",
   "execution_count": 1,
   "metadata": {},
   "outputs": [],
   "source": [
    "import heapq\n",
    "class MedianFinder:\n",
    "\n",
    "    def __init__(self):\n",
    "        self.left=[]\n",
    "        self.right=[]\n",
    "\n",
    "    def addNum(self, num: int) -> None:\n",
    "        heapq.heappush(self.left, -heapq.heappushpop(self.right, num))\n",
    "        if len(self.left) > len(self.right):\n",
    "            heapq.heappush(self.right, -heapq.heappop(self.left))\n",
    "\n",
    "    def findMedian(self) -> float:\n",
    "        if len(self.left) != len(self.right):\n",
    "            return self.right[0]\n",
    "        else:\n",
    "            return (self.right[0] - self.left[0]) / 2\n",
    "# Your MedianFinder object will be instantiated and called as such:\n",
    "# obj = MedianFinder()\n",
    "# obj.addNum(num)\n",
    "# param_2 = obj.findMedian()\n"
   ]
  }
 ],
 "metadata": {
  "kernelspec": {
   "display_name": "Python 3",
   "language": "python",
   "name": "python3"
  },
  "language_info": {
   "codemirror_mode": {
    "name": "ipython",
    "version": 3
   },
   "file_extension": ".py",
   "mimetype": "text/x-python",
   "name": "python",
   "nbconvert_exporter": "python",
   "pygments_lexer": "ipython3",
   "version": "3.9.0"
  }
 },
 "nbformat": 4,
 "nbformat_minor": 4
}
