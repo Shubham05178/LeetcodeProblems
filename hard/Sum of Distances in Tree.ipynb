{
 "cells": [
  {
   "cell_type": "code",
   "execution_count": 1,
   "metadata": {},
   "outputs": [],
   "source": [
    "\"\"\"\n",
    "\n",
    "==========================================\n",
    " Title:  https://leetcode.com/problems/sum-of-distances-in-tree/\n",
    " Author: Shubham Nagaria\n",
    " Date:   8 Sept 2021\n",
    "==========================================\n",
    "\n",
    "\"\"\"\n",
    "\n",
    "import collections\n",
    "class Solution(object):\n",
    "    def sumOfDistancesInTree(self, N, edges):\n",
    "        graph = collections.defaultdict(set)\n",
    "        for u, v in edges:\n",
    "            graph[u].add(v)\n",
    "            graph[v].add(u)\n",
    "        count = [1] * N\n",
    "        ans = [0] * N\n",
    "        def dfs(node = 0, parent = None):\n",
    "            for child in graph[node]:\n",
    "                if child != parent:\n",
    "                    dfs(child, node)\n",
    "                    count[node] += count[child]\n",
    "                    ans[node] += ans[child] + count[child]\n",
    "            \n",
    "        def dfs2(node = 0, parent = None):\n",
    "            for child in graph[node]:\n",
    "                if child != parent:\n",
    "                    ans[child] = ans[node] - count[child] + N - count[child]\n",
    "                    dfs2(child, node)\n",
    "\n",
    "        dfs()\n",
    "        dfs2()\n",
    "        return ans"
   ]
  },
  {
   "cell_type": "code",
   "execution_count": 2,
   "metadata": {},
   "outputs": [
    {
     "data": {
      "text/plain": [
       "[8, 12, 6, 10, 10, 10]"
      ]
     },
     "execution_count": 2,
     "metadata": {},
     "output_type": "execute_result"
    }
   ],
   "source": [
    "Solution().sumOfDistancesInTree(6,[[0,1],[0,2],[2,3],[2,4],[2,5]])\n"
   ]
  },
  {
   "cell_type": "code",
   "execution_count": null,
   "metadata": {},
   "outputs": [],
   "source": []
  }
 ],
 "metadata": {
  "kernelspec": {
   "display_name": "Python 3",
   "language": "python",
   "name": "python3"
  },
  "language_info": {
   "codemirror_mode": {
    "name": "ipython",
    "version": 3
   },
   "file_extension": ".py",
   "mimetype": "text/x-python",
   "name": "python",
   "nbconvert_exporter": "python",
   "pygments_lexer": "ipython3",
   "version": "3.7.6rc1"
  }
 },
 "nbformat": 4,
 "nbformat_minor": 4
}
