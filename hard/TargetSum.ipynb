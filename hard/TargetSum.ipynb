{
 "cells": [
  {
   "cell_type": "markdown",
   "metadata": {},
   "source": [
    "Problem Statement - https://leetcode.com/problems/target-sum/\n",
    "\n",
    "Author -Shubham Nagaria\n",
    "\n",
    "Date- 16th Oct 2021\n",
    "\n"
   ]
  },
  {
   "cell_type": "code",
   "execution_count": 1,
   "metadata": {},
   "outputs": [],
   "source": [
    "class Solution:\n",
    "    def findTargetSumWays(self, nums, target: int) -> int:\n",
    "        \n",
    "        def DP(i,target,memo={}):\n",
    "            if (i,target) in memo:\n",
    "                return memo[i,target]\n",
    "            if i==len(nums):\n",
    "                if target ==0:\n",
    "                    return 1\n",
    "                else:\n",
    "                    return 0 \n",
    "            curr=0\n",
    "            curr+=DP(i+1,target-nums[i],memo)\n",
    "            curr+=DP(i+1,target+nums[i],memo)\n",
    "            memo[i,target]=curr\n",
    "            return curr\n",
    "        return DP(0,target)"
   ]
  },
  {
   "cell_type": "code",
   "execution_count": 2,
   "metadata": {},
   "outputs": [
    {
     "data": {
      "text/plain": [
       "5"
      ]
     },
     "execution_count": 2,
     "metadata": {},
     "output_type": "execute_result"
    }
   ],
   "source": [
    "Solution().findTargetSumWays([1,1,1,1,1],3)"
   ]
  }
 ],
 "metadata": {
  "kernelspec": {
   "display_name": "Python 3",
   "language": "python",
   "name": "python3"
  },
  "language_info": {
   "codemirror_mode": {
    "name": "ipython",
    "version": 3
   },
   "file_extension": ".py",
   "mimetype": "text/x-python",
   "name": "python",
   "nbconvert_exporter": "python",
   "pygments_lexer": "ipython3",
   "version": "3.9.0"
  }
 },
 "nbformat": 4,
 "nbformat_minor": 4
}
