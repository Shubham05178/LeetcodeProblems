{
 "cells": [
  {
   "cell_type": "code",
   "execution_count": 2,
   "metadata": {},
   "outputs": [],
   "source": [
    "\"\"\"\n",
    "==========================================\n",
    " Title:  https://leetcode.com/problems/substring-with-concatenation-of-all-words/\n",
    " Author: Shubham Nagaria\n",
    " Date:   25 Sept 2021\n",
    "==========================================\n",
    "\n",
    "\"\"\"\n",
    "\n",
    "\n",
    "class Solution:\n",
    "    def findSubstring(self, s: str, words):\n",
    "        smallMap={}\n",
    "        bigMap={}\n",
    "        ctr=0\n",
    "        l=len(words[0])\n",
    "        ll=len(words)\n",
    "        h=len(s)\n",
    "        res=[]\n",
    "        for i in words:\n",
    "            smallMap[i]=smallMap.get(i,0)+1\n",
    "        for i in range(0,ll*l,l):\n",
    "            bigMap[s[i:i+l]]=bigMap.get(s[i:i+l],0)+1\n",
    "            if bigMap[s[i:i+l]] == smallMap.get(s[i:i+l],0):\n",
    "                ctr+=1\n",
    "        if len(smallMap)==ctr:\n",
    "            res.append(0)\n",
    "        #print(smallMap,bigMap)   \n",
    "        for i in range(0,h-(l*ll),l):\n",
    "            #print(s[i+(ll*l):i+(l*ll)+l])\n",
    "            bigMap[s[i+(ll*l):i+(l*ll)+l]]=bigMap.get(s[i+(ll*l):i+(l*ll)+l],0)+1\n",
    "            #print(bigMap)\n",
    "            if bigMap[s[i+(ll*l):i+(l*ll)+l]] == smallMap.get(s[i+(ll*l):i+(l*ll)+l],0):\n",
    "                ctr+=1\n",
    "            if bigMap[s[i:i+l]]==smallMap.get(s[i:i+l],0):\n",
    "                ctr-=1\n",
    "            \n",
    "            bigMap[s[i:i+l]]-=1\n",
    "            print(bigMap)\n",
    "            #print(ctr)\n",
    "            if ctr==len(smallMap):\n",
    "                res.append(i+l)\n",
    "        return res\n",
    "        "
   ]
  },
  {
   "cell_type": "code",
   "execution_count": 3,
   "metadata": {},
   "outputs": [
    {
     "name": "stdout",
     "output_type": "stream",
     "text": [
      "{'bar': 1, 'foo': 2}\n",
      "{'bar': 1, 'foo': 1, 'the': 1}\n",
      "{'bar': 1, 'foo': 1, 'the': 1}\n",
      "{'bar': 1, 'foo': 1, 'the': 1}\n",
      "{'bar': 1, 'foo': 1, 'the': 0, 'man': 1}\n"
     ]
    },
    {
     "data": {
      "text/plain": [
       "[6, 9, 12]"
      ]
     },
     "execution_count": 3,
     "metadata": {},
     "output_type": "execute_result"
    }
   ],
   "source": [
    "Solution().findSubstring(\"barfoofoobarthefoobarman\",[\"bar\",\"foo\",\"the\"])"
   ]
  },
  {
   "cell_type": "code",
   "execution_count": null,
   "metadata": {},
   "outputs": [],
   "source": []
  }
 ],
 "metadata": {
  "kernelspec": {
   "display_name": "Python 3",
   "language": "python",
   "name": "python3"
  },
  "language_info": {
   "codemirror_mode": {
    "name": "ipython",
    "version": 3
   },
   "file_extension": ".py",
   "mimetype": "text/x-python",
   "name": "python",
   "nbconvert_exporter": "python",
   "pygments_lexer": "ipython3",
   "version": "3.7.6rc1"
  }
 },
 "nbformat": 4,
 "nbformat_minor": 4
}
