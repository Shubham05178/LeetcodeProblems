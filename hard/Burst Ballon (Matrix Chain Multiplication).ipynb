{
 "cells": [
  {
   "cell_type": "markdown",
   "metadata": {},
   "source": [
    "Leetcode - https://leetcode.com/problems/burst-balloons\n",
    "\n",
    "Author- Shubham Nagaria\n",
    "\n",
    "Date- 18th Oct 2021\n"
   ]
  },
  {
   "cell_type": "code",
   "execution_count": 1,
   "metadata": {},
   "outputs": [],
   "source": [
    "class Solution:\n",
    "    def maxCoins(self, nums) -> int:\n",
    "        n=len(nums)\n",
    "        if n==0:\n",
    "            return 0\n",
    "        if n==1:\n",
    "            return nums[0]\n",
    "        DP=[[0 for _ in range(n+2)] for _ in range(n+2)]\n",
    "        nums=[1]+nums+[1]\n",
    "        for i in range(1,n+2):\n",
    "            for j in range(1,n-i+2):\n",
    "                l=j+i-1\n",
    "                for k in range(j ,l+1):\n",
    "                    DP[j][l]=max(DP[j][l],nums[j-1]*nums[k]*nums[l+1]+DP[j][k-1]+DP[k+1][l])\n",
    "        return DP[1][n]\n",
    "                    \n",
    "        "
   ]
  },
  {
   "cell_type": "code",
   "execution_count": 2,
   "metadata": {},
   "outputs": [
    {
     "data": {
      "text/plain": [
       "167"
      ]
     },
     "execution_count": 2,
     "metadata": {},
     "output_type": "execute_result"
    }
   ],
   "source": [
    "Solution().maxCoins([3,1,5,8])"
   ]
  }
 ],
 "metadata": {
  "kernelspec": {
   "display_name": "Python 3",
   "language": "python",
   "name": "python3"
  },
  "language_info": {
   "codemirror_mode": {
    "name": "ipython",
    "version": 3
   },
   "file_extension": ".py",
   "mimetype": "text/x-python",
   "name": "python",
   "nbconvert_exporter": "python",
   "pygments_lexer": "ipython3",
   "version": "3.9.0"
  }
 },
 "nbformat": 4,
 "nbformat_minor": 4
}
