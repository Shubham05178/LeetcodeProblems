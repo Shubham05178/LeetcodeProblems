{
 "cells": [
  {
   "cell_type": "markdown",
   "metadata": {},
   "source": [
    "Leetcode Problem - https://leetcode.com/problems/reverse-nodes-in-k-group/\n",
    "\n",
    "Author -Shubham Nagaria\n",
    "\n",
    "Upload via - gitpod.io\n",
    "\n",
    "Date -16 Oct 2021"
   ]
  },
  {
   "cell_type": "code",
   "execution_count": 1,
   "metadata": {},
   "outputs": [],
   "source": [
    "# Definition for singly-linked list.\n",
    "class ListNode:\n",
    "    def __init__(self, val=0, next=None):\n",
    "        self.val = val\n",
    "        self.next = next\n",
    "class Solution:\n",
    "    def reverseKGroup(self, head, k: int) :\n",
    "        if head is None:\n",
    "            return None\n",
    "        prevNode=nextNode=None\n",
    "        currNode=head\n",
    "        count=0\n",
    "        while(currNode and count<k):\n",
    "            currNode=currNode.next\n",
    "            count+=1\n",
    "        if count==k:\n",
    "            currNode = head\n",
    "            count=0\n",
    "            while(currNode and count<k):\n",
    "                nextNode=currNode.next\n",
    "                currNode.next=prevNode\n",
    "                prevNode=currNode\n",
    "                currNode=nextNode\n",
    "                count+=1\n",
    "            if nextNode:\n",
    "                head.next=self.reverseKGroup(nextNode,k)\n",
    "            return prevNode\n",
    "        else:\n",
    "            return head\n",
    "        "
   ]
  }
 ],
 "metadata": {
  "kernelspec": {
   "display_name": "Python 3",
   "language": "python",
   "name": "python3"
  },
  "language_info": {
   "codemirror_mode": {
    "name": "ipython",
    "version": 3
   },
   "file_extension": ".py",
   "mimetype": "text/x-python",
   "name": "python",
   "nbconvert_exporter": "python",
   "pygments_lexer": "ipython3",
   "version": "3.9.0"
  }
 },
 "nbformat": 4,
 "nbformat_minor": 4
}
