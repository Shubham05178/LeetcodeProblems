{
 "cells": [
  {
   "cell_type": "markdown",
   "metadata": {},
   "source": [
    "Leetcode - https://leetcode.com/problems/second-minimum-time-to-reach-destination/\n",
    "    \n",
    "Date- 17th Oct 2021\n",
    "\n",
    "Author - Shubham Nagaria\n"
   ]
  },
  {
   "cell_type": "code",
   "execution_count": 1,
   "metadata": {},
   "outputs": [],
   "source": [
    "from collections import defaultdict\n",
    "from heapq import heappush ,heappop\n",
    "class Solution:\n",
    "    def secondMinimum(self, n: int, edges, time: int, change: int) -> int:\n",
    "        D=[[] for _ in range(n+1)]\n",
    "        G,heap=defaultdict(list),[(0,1)]\n",
    "        for [a,b] in edges:\n",
    "            G[a]+=[b]\n",
    "            G[b]+=[a]\n",
    "        while heap:\n",
    "            dist,idx=heappop(heap)\n",
    "            if idx==n and len(D[idx])==2:\n",
    "                return max(D[idx])\n",
    "            factor =int(dist/change)\n",
    "            if factor %2 ==1:\n",
    "                dist=(factor+1)*change\n",
    "            clem=dist+time\n",
    "            for nei in G[idx]:\n",
    "                if D[nei]==[] or (len(D[nei])==1 and D[nei]!=[clem]):\n",
    "                    D[nei]+=[clem]\n",
    "                    heappush(heap,(clem,nei))"
   ]
  },
  {
   "cell_type": "code",
   "execution_count": 2,
   "metadata": {},
   "outputs": [
    {
     "data": {
      "text/plain": [
       "13"
      ]
     },
     "execution_count": 2,
     "metadata": {},
     "output_type": "execute_result"
    }
   ],
   "source": [
    "Solution().secondMinimum(5,[[1,2],[1,3],[1,4],[3,4],[4,5]],3,5)"
   ]
  }
 ],
 "metadata": {
  "kernelspec": {
   "display_name": "Python 3",
   "language": "python",
   "name": "python3"
  },
  "language_info": {
   "codemirror_mode": {
    "name": "ipython",
    "version": 3
   },
   "file_extension": ".py",
   "mimetype": "text/x-python",
   "name": "python",
   "nbconvert_exporter": "python",
   "pygments_lexer": "ipython3",
   "version": "3.9.0"
  }
 },
 "nbformat": 4,
 "nbformat_minor": 4
}
